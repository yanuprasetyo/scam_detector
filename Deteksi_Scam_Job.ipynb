{
  "nbformat": 4,
  "nbformat_minor": 0,
  "metadata": {
    "colab": {
      "provenance": [],
      "authorship_tag": "ABX9TyNEzYSn7/YusG1v9T7nTkJO",
      "include_colab_link": true
    },
    "kernelspec": {
      "name": "python3",
      "display_name": "Python 3"
    },
    "language_info": {
      "name": "python"
    }
  },
  "cells": [
    {
      "cell_type": "markdown",
      "metadata": {
        "id": "view-in-github",
        "colab_type": "text"
      },
      "source": [
        "<a href=\"https://colab.research.google.com/github/yanuprasetyo/scam_detector/blob/main/Deteksi_Scam_Job.ipynb\" target=\"_parent\"><img src=\"https://colab.research.google.com/assets/colab-badge.svg\" alt=\"Open In Colab\"/></a>"
      ]
    },
    {
      "cell_type": "markdown",
      "source": [
        "**Langkah 1: instalasi pustaka dasar**"
      ],
      "metadata": {
        "id": "cN3VvRVwhW7C"
      }
    },
    {
      "cell_type": "code",
      "source": [
        "# Instal pustaka tambahan jika diperlukan\n",
        "!pip install pandas numpy scikit-learn nltk\n",
        "\n",
        "# Import pustaka dasar\n",
        "import pandas as pd\n",
        "import numpy as np\n",
        "import re\n",
        "import nltk\n",
        "from nltk.corpus import stopwords\n",
        "from nltk.tokenize import word_tokenize\n",
        "from sklearn.model_selection import train_test_split\n",
        "from sklearn.feature_extraction.text import TfidfVectorizer\n",
        "from sklearn.naive_bayes import MultinomialNB\n",
        "from sklearn.metrics import accuracy_score, classification_report\n",
        "\n",
        "# Download NLTK resources (untuk preprocessing teks)\n",
        "nltk.download('stopwords')\n",
        "nltk.download('punkt')\n",
        "\n",
        "print(\"✅ Semua pustaka telah diinstal dan siap digunakan!\")\n"
      ],
      "metadata": {
        "colab": {
          "base_uri": "https://localhost:8080/"
        },
        "id": "PSIfXv2Rhba6",
        "outputId": "655094d7-bcd5-4683-a1a2-3432389cd47b"
      },
      "execution_count": null,
      "outputs": [
        {
          "output_type": "stream",
          "name": "stdout",
          "text": [
            "Requirement already satisfied: pandas in /usr/local/lib/python3.11/dist-packages (2.2.2)\n",
            "Requirement already satisfied: numpy in /usr/local/lib/python3.11/dist-packages (1.26.4)\n",
            "Requirement already satisfied: scikit-learn in /usr/local/lib/python3.11/dist-packages (1.6.1)\n",
            "Requirement already satisfied: nltk in /usr/local/lib/python3.11/dist-packages (3.9.1)\n",
            "Requirement already satisfied: python-dateutil>=2.8.2 in /usr/local/lib/python3.11/dist-packages (from pandas) (2.8.2)\n",
            "Requirement already satisfied: pytz>=2020.1 in /usr/local/lib/python3.11/dist-packages (from pandas) (2025.1)\n",
            "Requirement already satisfied: tzdata>=2022.7 in /usr/local/lib/python3.11/dist-packages (from pandas) (2025.1)\n",
            "Requirement already satisfied: scipy>=1.6.0 in /usr/local/lib/python3.11/dist-packages (from scikit-learn) (1.13.1)\n",
            "Requirement already satisfied: joblib>=1.2.0 in /usr/local/lib/python3.11/dist-packages (from scikit-learn) (1.4.2)\n",
            "Requirement already satisfied: threadpoolctl>=3.1.0 in /usr/local/lib/python3.11/dist-packages (from scikit-learn) (3.5.0)\n",
            "Requirement already satisfied: click in /usr/local/lib/python3.11/dist-packages (from nltk) (8.1.8)\n",
            "Requirement already satisfied: regex>=2021.8.3 in /usr/local/lib/python3.11/dist-packages (from nltk) (2024.11.6)\n",
            "Requirement already satisfied: tqdm in /usr/local/lib/python3.11/dist-packages (from nltk) (4.67.1)\n",
            "Requirement already satisfied: six>=1.5 in /usr/local/lib/python3.11/dist-packages (from python-dateutil>=2.8.2->pandas) (1.17.0)\n"
          ]
        },
        {
          "output_type": "stream",
          "name": "stderr",
          "text": [
            "[nltk_data] Downloading package stopwords to /root/nltk_data...\n",
            "[nltk_data]   Unzipping corpora/stopwords.zip.\n",
            "[nltk_data] Downloading package punkt to /root/nltk_data...\n",
            "[nltk_data]   Unzipping tokenizers/punkt.zip.\n"
          ]
        },
        {
          "output_type": "stream",
          "name": "stdout",
          "text": [
            "✅ Semua pustaka telah diinstal dan siap digunakan!\n"
          ]
        }
      ]
    },
    {
      "cell_type": "markdown",
      "source": [
        "**Langkah 2: Mengumpulkan Dataset**"
      ],
      "metadata": {
        "id": "9P89MZlkhuzr"
      }
    },
    {
      "cell_type": "code",
      "source": [
        "# Konversi ke DataFrame\n",
        "df = pd.DataFrame(data)\n",
        "\n",
        "# Tampilkan dataset awal\n",
        "display(df)  # Alternatif untuk menampilkan dataset di Google Colab\n"
      ],
      "metadata": {
        "colab": {
          "base_uri": "https://localhost:8080/",
          "height": 206
        },
        "id": "wqlc1lLqiWEi",
        "outputId": "df3d577d-5569-464d-a526-d61b97ba0548"
      },
      "execution_count": null,
      "outputs": [
        {
          "output_type": "display_data",
          "data": {
            "text/plain": [
              "                                         job_posting label\n",
              "0  Dibutuhkan admin online shop, kerja dari rumah...  asli\n",
              "1  Gaji 30 juta per bulan! Kerja santai dari ruma...  scam\n",
              "2  Lowongan kerja di restoran Jepang, pengalaman ...  asli\n",
              "3  Peluang emas! Modal nol rupiah, kerja bebas wa...  scam\n",
              "4  Dibutuhkan tenaga pengajar untuk kursus coding...  asli"
            ],
            "text/html": [
              "\n",
              "  <div id=\"df-519e6e39-0dbe-4cd6-b1fa-dbb2cb0ecac4\" class=\"colab-df-container\">\n",
              "    <div>\n",
              "<style scoped>\n",
              "    .dataframe tbody tr th:only-of-type {\n",
              "        vertical-align: middle;\n",
              "    }\n",
              "\n",
              "    .dataframe tbody tr th {\n",
              "        vertical-align: top;\n",
              "    }\n",
              "\n",
              "    .dataframe thead th {\n",
              "        text-align: right;\n",
              "    }\n",
              "</style>\n",
              "<table border=\"1\" class=\"dataframe\">\n",
              "  <thead>\n",
              "    <tr style=\"text-align: right;\">\n",
              "      <th></th>\n",
              "      <th>job_posting</th>\n",
              "      <th>label</th>\n",
              "    </tr>\n",
              "  </thead>\n",
              "  <tbody>\n",
              "    <tr>\n",
              "      <th>0</th>\n",
              "      <td>Dibutuhkan admin online shop, kerja dari rumah...</td>\n",
              "      <td>asli</td>\n",
              "    </tr>\n",
              "    <tr>\n",
              "      <th>1</th>\n",
              "      <td>Gaji 30 juta per bulan! Kerja santai dari ruma...</td>\n",
              "      <td>scam</td>\n",
              "    </tr>\n",
              "    <tr>\n",
              "      <th>2</th>\n",
              "      <td>Lowongan kerja di restoran Jepang, pengalaman ...</td>\n",
              "      <td>asli</td>\n",
              "    </tr>\n",
              "    <tr>\n",
              "      <th>3</th>\n",
              "      <td>Peluang emas! Modal nol rupiah, kerja bebas wa...</td>\n",
              "      <td>scam</td>\n",
              "    </tr>\n",
              "    <tr>\n",
              "      <th>4</th>\n",
              "      <td>Dibutuhkan tenaga pengajar untuk kursus coding...</td>\n",
              "      <td>asli</td>\n",
              "    </tr>\n",
              "  </tbody>\n",
              "</table>\n",
              "</div>\n",
              "    <div class=\"colab-df-buttons\">\n",
              "\n",
              "  <div class=\"colab-df-container\">\n",
              "    <button class=\"colab-df-convert\" onclick=\"convertToInteractive('df-519e6e39-0dbe-4cd6-b1fa-dbb2cb0ecac4')\"\n",
              "            title=\"Convert this dataframe to an interactive table.\"\n",
              "            style=\"display:none;\">\n",
              "\n",
              "  <svg xmlns=\"http://www.w3.org/2000/svg\" height=\"24px\" viewBox=\"0 -960 960 960\">\n",
              "    <path d=\"M120-120v-720h720v720H120Zm60-500h600v-160H180v160Zm220 220h160v-160H400v160Zm0 220h160v-160H400v160ZM180-400h160v-160H180v160Zm440 0h160v-160H620v160ZM180-180h160v-160H180v160Zm440 0h160v-160H620v160Z\"/>\n",
              "  </svg>\n",
              "    </button>\n",
              "\n",
              "  <style>\n",
              "    .colab-df-container {\n",
              "      display:flex;\n",
              "      gap: 12px;\n",
              "    }\n",
              "\n",
              "    .colab-df-convert {\n",
              "      background-color: #E8F0FE;\n",
              "      border: none;\n",
              "      border-radius: 50%;\n",
              "      cursor: pointer;\n",
              "      display: none;\n",
              "      fill: #1967D2;\n",
              "      height: 32px;\n",
              "      padding: 0 0 0 0;\n",
              "      width: 32px;\n",
              "    }\n",
              "\n",
              "    .colab-df-convert:hover {\n",
              "      background-color: #E2EBFA;\n",
              "      box-shadow: 0px 1px 2px rgba(60, 64, 67, 0.3), 0px 1px 3px 1px rgba(60, 64, 67, 0.15);\n",
              "      fill: #174EA6;\n",
              "    }\n",
              "\n",
              "    .colab-df-buttons div {\n",
              "      margin-bottom: 4px;\n",
              "    }\n",
              "\n",
              "    [theme=dark] .colab-df-convert {\n",
              "      background-color: #3B4455;\n",
              "      fill: #D2E3FC;\n",
              "    }\n",
              "\n",
              "    [theme=dark] .colab-df-convert:hover {\n",
              "      background-color: #434B5C;\n",
              "      box-shadow: 0px 1px 3px 1px rgba(0, 0, 0, 0.15);\n",
              "      filter: drop-shadow(0px 1px 2px rgba(0, 0, 0, 0.3));\n",
              "      fill: #FFFFFF;\n",
              "    }\n",
              "  </style>\n",
              "\n",
              "    <script>\n",
              "      const buttonEl =\n",
              "        document.querySelector('#df-519e6e39-0dbe-4cd6-b1fa-dbb2cb0ecac4 button.colab-df-convert');\n",
              "      buttonEl.style.display =\n",
              "        google.colab.kernel.accessAllowed ? 'block' : 'none';\n",
              "\n",
              "      async function convertToInteractive(key) {\n",
              "        const element = document.querySelector('#df-519e6e39-0dbe-4cd6-b1fa-dbb2cb0ecac4');\n",
              "        const dataTable =\n",
              "          await google.colab.kernel.invokeFunction('convertToInteractive',\n",
              "                                                    [key], {});\n",
              "        if (!dataTable) return;\n",
              "\n",
              "        const docLinkHtml = 'Like what you see? Visit the ' +\n",
              "          '<a target=\"_blank\" href=https://colab.research.google.com/notebooks/data_table.ipynb>data table notebook</a>'\n",
              "          + ' to learn more about interactive tables.';\n",
              "        element.innerHTML = '';\n",
              "        dataTable['output_type'] = 'display_data';\n",
              "        await google.colab.output.renderOutput(dataTable, element);\n",
              "        const docLink = document.createElement('div');\n",
              "        docLink.innerHTML = docLinkHtml;\n",
              "        element.appendChild(docLink);\n",
              "      }\n",
              "    </script>\n",
              "  </div>\n",
              "\n",
              "\n",
              "<div id=\"df-51dcb64c-02d9-4f1c-bdae-198d36000d16\">\n",
              "  <button class=\"colab-df-quickchart\" onclick=\"quickchart('df-51dcb64c-02d9-4f1c-bdae-198d36000d16')\"\n",
              "            title=\"Suggest charts\"\n",
              "            style=\"display:none;\">\n",
              "\n",
              "<svg xmlns=\"http://www.w3.org/2000/svg\" height=\"24px\"viewBox=\"0 0 24 24\"\n",
              "     width=\"24px\">\n",
              "    <g>\n",
              "        <path d=\"M19 3H5c-1.1 0-2 .9-2 2v14c0 1.1.9 2 2 2h14c1.1 0 2-.9 2-2V5c0-1.1-.9-2-2-2zM9 17H7v-7h2v7zm4 0h-2V7h2v10zm4 0h-2v-4h2v4z\"/>\n",
              "    </g>\n",
              "</svg>\n",
              "  </button>\n",
              "\n",
              "<style>\n",
              "  .colab-df-quickchart {\n",
              "      --bg-color: #E8F0FE;\n",
              "      --fill-color: #1967D2;\n",
              "      --hover-bg-color: #E2EBFA;\n",
              "      --hover-fill-color: #174EA6;\n",
              "      --disabled-fill-color: #AAA;\n",
              "      --disabled-bg-color: #DDD;\n",
              "  }\n",
              "\n",
              "  [theme=dark] .colab-df-quickchart {\n",
              "      --bg-color: #3B4455;\n",
              "      --fill-color: #D2E3FC;\n",
              "      --hover-bg-color: #434B5C;\n",
              "      --hover-fill-color: #FFFFFF;\n",
              "      --disabled-bg-color: #3B4455;\n",
              "      --disabled-fill-color: #666;\n",
              "  }\n",
              "\n",
              "  .colab-df-quickchart {\n",
              "    background-color: var(--bg-color);\n",
              "    border: none;\n",
              "    border-radius: 50%;\n",
              "    cursor: pointer;\n",
              "    display: none;\n",
              "    fill: var(--fill-color);\n",
              "    height: 32px;\n",
              "    padding: 0;\n",
              "    width: 32px;\n",
              "  }\n",
              "\n",
              "  .colab-df-quickchart:hover {\n",
              "    background-color: var(--hover-bg-color);\n",
              "    box-shadow: 0 1px 2px rgba(60, 64, 67, 0.3), 0 1px 3px 1px rgba(60, 64, 67, 0.15);\n",
              "    fill: var(--button-hover-fill-color);\n",
              "  }\n",
              "\n",
              "  .colab-df-quickchart-complete:disabled,\n",
              "  .colab-df-quickchart-complete:disabled:hover {\n",
              "    background-color: var(--disabled-bg-color);\n",
              "    fill: var(--disabled-fill-color);\n",
              "    box-shadow: none;\n",
              "  }\n",
              "\n",
              "  .colab-df-spinner {\n",
              "    border: 2px solid var(--fill-color);\n",
              "    border-color: transparent;\n",
              "    border-bottom-color: var(--fill-color);\n",
              "    animation:\n",
              "      spin 1s steps(1) infinite;\n",
              "  }\n",
              "\n",
              "  @keyframes spin {\n",
              "    0% {\n",
              "      border-color: transparent;\n",
              "      border-bottom-color: var(--fill-color);\n",
              "      border-left-color: var(--fill-color);\n",
              "    }\n",
              "    20% {\n",
              "      border-color: transparent;\n",
              "      border-left-color: var(--fill-color);\n",
              "      border-top-color: var(--fill-color);\n",
              "    }\n",
              "    30% {\n",
              "      border-color: transparent;\n",
              "      border-left-color: var(--fill-color);\n",
              "      border-top-color: var(--fill-color);\n",
              "      border-right-color: var(--fill-color);\n",
              "    }\n",
              "    40% {\n",
              "      border-color: transparent;\n",
              "      border-right-color: var(--fill-color);\n",
              "      border-top-color: var(--fill-color);\n",
              "    }\n",
              "    60% {\n",
              "      border-color: transparent;\n",
              "      border-right-color: var(--fill-color);\n",
              "    }\n",
              "    80% {\n",
              "      border-color: transparent;\n",
              "      border-right-color: var(--fill-color);\n",
              "      border-bottom-color: var(--fill-color);\n",
              "    }\n",
              "    90% {\n",
              "      border-color: transparent;\n",
              "      border-bottom-color: var(--fill-color);\n",
              "    }\n",
              "  }\n",
              "</style>\n",
              "\n",
              "  <script>\n",
              "    async function quickchart(key) {\n",
              "      const quickchartButtonEl =\n",
              "        document.querySelector('#' + key + ' button');\n",
              "      quickchartButtonEl.disabled = true;  // To prevent multiple clicks.\n",
              "      quickchartButtonEl.classList.add('colab-df-spinner');\n",
              "      try {\n",
              "        const charts = await google.colab.kernel.invokeFunction(\n",
              "            'suggestCharts', [key], {});\n",
              "      } catch (error) {\n",
              "        console.error('Error during call to suggestCharts:', error);\n",
              "      }\n",
              "      quickchartButtonEl.classList.remove('colab-df-spinner');\n",
              "      quickchartButtonEl.classList.add('colab-df-quickchart-complete');\n",
              "    }\n",
              "    (() => {\n",
              "      let quickchartButtonEl =\n",
              "        document.querySelector('#df-51dcb64c-02d9-4f1c-bdae-198d36000d16 button');\n",
              "      quickchartButtonEl.style.display =\n",
              "        google.colab.kernel.accessAllowed ? 'block' : 'none';\n",
              "    })();\n",
              "  </script>\n",
              "</div>\n",
              "\n",
              "  <div id=\"id_469c5161-6a27-477c-a874-fb60028a10d4\">\n",
              "    <style>\n",
              "      .colab-df-generate {\n",
              "        background-color: #E8F0FE;\n",
              "        border: none;\n",
              "        border-radius: 50%;\n",
              "        cursor: pointer;\n",
              "        display: none;\n",
              "        fill: #1967D2;\n",
              "        height: 32px;\n",
              "        padding: 0 0 0 0;\n",
              "        width: 32px;\n",
              "      }\n",
              "\n",
              "      .colab-df-generate:hover {\n",
              "        background-color: #E2EBFA;\n",
              "        box-shadow: 0px 1px 2px rgba(60, 64, 67, 0.3), 0px 1px 3px 1px rgba(60, 64, 67, 0.15);\n",
              "        fill: #174EA6;\n",
              "      }\n",
              "\n",
              "      [theme=dark] .colab-df-generate {\n",
              "        background-color: #3B4455;\n",
              "        fill: #D2E3FC;\n",
              "      }\n",
              "\n",
              "      [theme=dark] .colab-df-generate:hover {\n",
              "        background-color: #434B5C;\n",
              "        box-shadow: 0px 1px 3px 1px rgba(0, 0, 0, 0.15);\n",
              "        filter: drop-shadow(0px 1px 2px rgba(0, 0, 0, 0.3));\n",
              "        fill: #FFFFFF;\n",
              "      }\n",
              "    </style>\n",
              "    <button class=\"colab-df-generate\" onclick=\"generateWithVariable('df')\"\n",
              "            title=\"Generate code using this dataframe.\"\n",
              "            style=\"display:none;\">\n",
              "\n",
              "  <svg xmlns=\"http://www.w3.org/2000/svg\" height=\"24px\"viewBox=\"0 0 24 24\"\n",
              "       width=\"24px\">\n",
              "    <path d=\"M7,19H8.4L18.45,9,17,7.55,7,17.6ZM5,21V16.75L18.45,3.32a2,2,0,0,1,2.83,0l1.4,1.43a1.91,1.91,0,0,1,.58,1.4,1.91,1.91,0,0,1-.58,1.4L9.25,21ZM18.45,9,17,7.55Zm-12,3A5.31,5.31,0,0,0,4.9,8.1,5.31,5.31,0,0,0,1,6.5,5.31,5.31,0,0,0,4.9,4.9,5.31,5.31,0,0,0,6.5,1,5.31,5.31,0,0,0,8.1,4.9,5.31,5.31,0,0,0,12,6.5,5.46,5.46,0,0,0,6.5,12Z\"/>\n",
              "  </svg>\n",
              "    </button>\n",
              "    <script>\n",
              "      (() => {\n",
              "      const buttonEl =\n",
              "        document.querySelector('#id_469c5161-6a27-477c-a874-fb60028a10d4 button.colab-df-generate');\n",
              "      buttonEl.style.display =\n",
              "        google.colab.kernel.accessAllowed ? 'block' : 'none';\n",
              "\n",
              "      buttonEl.onclick = () => {\n",
              "        google.colab.notebook.generateWithVariable('df');\n",
              "      }\n",
              "      })();\n",
              "    </script>\n",
              "  </div>\n",
              "\n",
              "    </div>\n",
              "  </div>\n"
            ],
            "application/vnd.google.colaboratory.intrinsic+json": {
              "type": "dataframe",
              "variable_name": "df",
              "summary": "{\n  \"name\": \"df\",\n  \"rows\": 5,\n  \"fields\": [\n    {\n      \"column\": \"job_posting\",\n      \"properties\": {\n        \"dtype\": \"string\",\n        \"num_unique_values\": 5,\n        \"samples\": [\n          \"Gaji 30 juta per bulan! Kerja santai dari rumah, cukup rebahan, langsung WA admin ini!!!\",\n          \"Dibutuhkan tenaga pengajar untuk kursus coding, pengalaman 2 tahun, full-time.\",\n          \"Lowongan kerja di restoran Jepang, pengalaman minimal 1 tahun, kontrak resmi.\"\n        ],\n        \"semantic_type\": \"\",\n        \"description\": \"\"\n      }\n    },\n    {\n      \"column\": \"label\",\n      \"properties\": {\n        \"dtype\": \"category\",\n        \"num_unique_values\": 2,\n        \"samples\": [\n          \"scam\",\n          \"asli\"\n        ],\n        \"semantic_type\": \"\",\n        \"description\": \"\"\n      }\n    }\n  ]\n}"
            }
          },
          "metadata": {}
        }
      ]
    },
    {
      "cell_type": "code",
      "source": [],
      "metadata": {
        "id": "vqZBHhfXk5Wp"
      },
      "execution_count": null,
      "outputs": []
    },
    {
      "cell_type": "markdown",
      "source": [
        "**LANGKAH 3: Preprocessing Teks (Membersihkan Data)**"
      ],
      "metadata": {
        "id": "sxSABOlas8Cb"
      }
    },
    {
      "cell_type": "code",
      "source": [
        "# Import pustaka tambahan\n",
        "from nltk.corpus import stopwords\n",
        "from nltk.tokenize import word_tokenize\n",
        "import string\n",
        "\n",
        "# Ambil stopwords bahasa Indonesia\n",
        "stop_words = set(stopwords.words('indonesian'))\n",
        "\n",
        "def preprocess_text(text):\n",
        "    # Ubah teks menjadi huruf kecil\n",
        "    text = text.lower()\n",
        "\n",
        "    # Hapus karakter khusus, angka, dan tanda baca\n",
        "    text = re.sub(r'\\d+', '', text)  # Hapus angka\n",
        "    text = text.translate(str.maketrans(\"\", \"\", string.punctuation))  # Hapus tanda baca\n",
        "\n",
        "    # Tokenisasi (memisahkan kata-kata)\n",
        "    words = word_tokenize(text)\n",
        "\n",
        "    # Hapus stopwords\n",
        "    words = [word for word in words if word not in stop_words]\n",
        "\n",
        "    # Gabungkan kembali kata-kata yang sudah dibersihkan\n",
        "    return \" \".join(words)\n",
        "\n",
        "# Terapkan preprocessing ke dataset\n",
        "df[\"clean_job_posting\"] = df[\"job_posting\"].apply(preprocess_text)\n",
        "\n",
        "# Tampilkan hasil preprocessing\n",
        "display(df[[\"job_posting\", \"clean_job_posting\"]])\n"
      ],
      "metadata": {
        "colab": {
          "base_uri": "https://localhost:8080/",
          "height": 206
        },
        "id": "AU9AXMGDifK0",
        "outputId": "a29496ab-58b0-4b99-ccd0-b35d491e30cf"
      },
      "execution_count": null,
      "outputs": [
        {
          "output_type": "display_data",
          "data": {
            "text/plain": [
              "                                         job_posting  \\\n",
              "0  Dibutuhkan admin online shop, kerja dari rumah...   \n",
              "1  Gaji 30 juta per bulan! Kerja santai dari ruma...   \n",
              "2  Lowongan kerja di restoran Jepang, pengalaman ...   \n",
              "3  Peluang emas! Modal nol rupiah, kerja bebas wa...   \n",
              "4  Dibutuhkan tenaga pengajar untuk kursus coding...   \n",
              "\n",
              "                                   clean_job_posting  \n",
              "0  dibutuhkan admin online shop kerja rumah gaji ...  \n",
              "1  gaji juta kerja santai rumah rebahan langsung ...  \n",
              "2  lowongan kerja restoran jepang pengalaman mini...  \n",
              "3  peluang emas modal nol rupiah kerja bebas daft...  \n",
              "4  dibutuhkan tenaga pengajar kursus coding penga...  "
            ],
            "text/html": [
              "\n",
              "  <div id=\"df-6c0818fd-5a33-4d74-b293-e96a4dc49214\" class=\"colab-df-container\">\n",
              "    <div>\n",
              "<style scoped>\n",
              "    .dataframe tbody tr th:only-of-type {\n",
              "        vertical-align: middle;\n",
              "    }\n",
              "\n",
              "    .dataframe tbody tr th {\n",
              "        vertical-align: top;\n",
              "    }\n",
              "\n",
              "    .dataframe thead th {\n",
              "        text-align: right;\n",
              "    }\n",
              "</style>\n",
              "<table border=\"1\" class=\"dataframe\">\n",
              "  <thead>\n",
              "    <tr style=\"text-align: right;\">\n",
              "      <th></th>\n",
              "      <th>job_posting</th>\n",
              "      <th>clean_job_posting</th>\n",
              "    </tr>\n",
              "  </thead>\n",
              "  <tbody>\n",
              "    <tr>\n",
              "      <th>0</th>\n",
              "      <td>Dibutuhkan admin online shop, kerja dari rumah...</td>\n",
              "      <td>dibutuhkan admin online shop kerja rumah gaji ...</td>\n",
              "    </tr>\n",
              "    <tr>\n",
              "      <th>1</th>\n",
              "      <td>Gaji 30 juta per bulan! Kerja santai dari ruma...</td>\n",
              "      <td>gaji juta kerja santai rumah rebahan langsung ...</td>\n",
              "    </tr>\n",
              "    <tr>\n",
              "      <th>2</th>\n",
              "      <td>Lowongan kerja di restoran Jepang, pengalaman ...</td>\n",
              "      <td>lowongan kerja restoran jepang pengalaman mini...</td>\n",
              "    </tr>\n",
              "    <tr>\n",
              "      <th>3</th>\n",
              "      <td>Peluang emas! Modal nol rupiah, kerja bebas wa...</td>\n",
              "      <td>peluang emas modal nol rupiah kerja bebas daft...</td>\n",
              "    </tr>\n",
              "    <tr>\n",
              "      <th>4</th>\n",
              "      <td>Dibutuhkan tenaga pengajar untuk kursus coding...</td>\n",
              "      <td>dibutuhkan tenaga pengajar kursus coding penga...</td>\n",
              "    </tr>\n",
              "  </tbody>\n",
              "</table>\n",
              "</div>\n",
              "    <div class=\"colab-df-buttons\">\n",
              "\n",
              "  <div class=\"colab-df-container\">\n",
              "    <button class=\"colab-df-convert\" onclick=\"convertToInteractive('df-6c0818fd-5a33-4d74-b293-e96a4dc49214')\"\n",
              "            title=\"Convert this dataframe to an interactive table.\"\n",
              "            style=\"display:none;\">\n",
              "\n",
              "  <svg xmlns=\"http://www.w3.org/2000/svg\" height=\"24px\" viewBox=\"0 -960 960 960\">\n",
              "    <path d=\"M120-120v-720h720v720H120Zm60-500h600v-160H180v160Zm220 220h160v-160H400v160Zm0 220h160v-160H400v160ZM180-400h160v-160H180v160Zm440 0h160v-160H620v160ZM180-180h160v-160H180v160Zm440 0h160v-160H620v160Z\"/>\n",
              "  </svg>\n",
              "    </button>\n",
              "\n",
              "  <style>\n",
              "    .colab-df-container {\n",
              "      display:flex;\n",
              "      gap: 12px;\n",
              "    }\n",
              "\n",
              "    .colab-df-convert {\n",
              "      background-color: #E8F0FE;\n",
              "      border: none;\n",
              "      border-radius: 50%;\n",
              "      cursor: pointer;\n",
              "      display: none;\n",
              "      fill: #1967D2;\n",
              "      height: 32px;\n",
              "      padding: 0 0 0 0;\n",
              "      width: 32px;\n",
              "    }\n",
              "\n",
              "    .colab-df-convert:hover {\n",
              "      background-color: #E2EBFA;\n",
              "      box-shadow: 0px 1px 2px rgba(60, 64, 67, 0.3), 0px 1px 3px 1px rgba(60, 64, 67, 0.15);\n",
              "      fill: #174EA6;\n",
              "    }\n",
              "\n",
              "    .colab-df-buttons div {\n",
              "      margin-bottom: 4px;\n",
              "    }\n",
              "\n",
              "    [theme=dark] .colab-df-convert {\n",
              "      background-color: #3B4455;\n",
              "      fill: #D2E3FC;\n",
              "    }\n",
              "\n",
              "    [theme=dark] .colab-df-convert:hover {\n",
              "      background-color: #434B5C;\n",
              "      box-shadow: 0px 1px 3px 1px rgba(0, 0, 0, 0.15);\n",
              "      filter: drop-shadow(0px 1px 2px rgba(0, 0, 0, 0.3));\n",
              "      fill: #FFFFFF;\n",
              "    }\n",
              "  </style>\n",
              "\n",
              "    <script>\n",
              "      const buttonEl =\n",
              "        document.querySelector('#df-6c0818fd-5a33-4d74-b293-e96a4dc49214 button.colab-df-convert');\n",
              "      buttonEl.style.display =\n",
              "        google.colab.kernel.accessAllowed ? 'block' : 'none';\n",
              "\n",
              "      async function convertToInteractive(key) {\n",
              "        const element = document.querySelector('#df-6c0818fd-5a33-4d74-b293-e96a4dc49214');\n",
              "        const dataTable =\n",
              "          await google.colab.kernel.invokeFunction('convertToInteractive',\n",
              "                                                    [key], {});\n",
              "        if (!dataTable) return;\n",
              "\n",
              "        const docLinkHtml = 'Like what you see? Visit the ' +\n",
              "          '<a target=\"_blank\" href=https://colab.research.google.com/notebooks/data_table.ipynb>data table notebook</a>'\n",
              "          + ' to learn more about interactive tables.';\n",
              "        element.innerHTML = '';\n",
              "        dataTable['output_type'] = 'display_data';\n",
              "        await google.colab.output.renderOutput(dataTable, element);\n",
              "        const docLink = document.createElement('div');\n",
              "        docLink.innerHTML = docLinkHtml;\n",
              "        element.appendChild(docLink);\n",
              "      }\n",
              "    </script>\n",
              "  </div>\n",
              "\n",
              "\n",
              "<div id=\"df-9a5d02eb-68fd-4c3c-b203-020070de24f3\">\n",
              "  <button class=\"colab-df-quickchart\" onclick=\"quickchart('df-9a5d02eb-68fd-4c3c-b203-020070de24f3')\"\n",
              "            title=\"Suggest charts\"\n",
              "            style=\"display:none;\">\n",
              "\n",
              "<svg xmlns=\"http://www.w3.org/2000/svg\" height=\"24px\"viewBox=\"0 0 24 24\"\n",
              "     width=\"24px\">\n",
              "    <g>\n",
              "        <path d=\"M19 3H5c-1.1 0-2 .9-2 2v14c0 1.1.9 2 2 2h14c1.1 0 2-.9 2-2V5c0-1.1-.9-2-2-2zM9 17H7v-7h2v7zm4 0h-2V7h2v10zm4 0h-2v-4h2v4z\"/>\n",
              "    </g>\n",
              "</svg>\n",
              "  </button>\n",
              "\n",
              "<style>\n",
              "  .colab-df-quickchart {\n",
              "      --bg-color: #E8F0FE;\n",
              "      --fill-color: #1967D2;\n",
              "      --hover-bg-color: #E2EBFA;\n",
              "      --hover-fill-color: #174EA6;\n",
              "      --disabled-fill-color: #AAA;\n",
              "      --disabled-bg-color: #DDD;\n",
              "  }\n",
              "\n",
              "  [theme=dark] .colab-df-quickchart {\n",
              "      --bg-color: #3B4455;\n",
              "      --fill-color: #D2E3FC;\n",
              "      --hover-bg-color: #434B5C;\n",
              "      --hover-fill-color: #FFFFFF;\n",
              "      --disabled-bg-color: #3B4455;\n",
              "      --disabled-fill-color: #666;\n",
              "  }\n",
              "\n",
              "  .colab-df-quickchart {\n",
              "    background-color: var(--bg-color);\n",
              "    border: none;\n",
              "    border-radius: 50%;\n",
              "    cursor: pointer;\n",
              "    display: none;\n",
              "    fill: var(--fill-color);\n",
              "    height: 32px;\n",
              "    padding: 0;\n",
              "    width: 32px;\n",
              "  }\n",
              "\n",
              "  .colab-df-quickchart:hover {\n",
              "    background-color: var(--hover-bg-color);\n",
              "    box-shadow: 0 1px 2px rgba(60, 64, 67, 0.3), 0 1px 3px 1px rgba(60, 64, 67, 0.15);\n",
              "    fill: var(--button-hover-fill-color);\n",
              "  }\n",
              "\n",
              "  .colab-df-quickchart-complete:disabled,\n",
              "  .colab-df-quickchart-complete:disabled:hover {\n",
              "    background-color: var(--disabled-bg-color);\n",
              "    fill: var(--disabled-fill-color);\n",
              "    box-shadow: none;\n",
              "  }\n",
              "\n",
              "  .colab-df-spinner {\n",
              "    border: 2px solid var(--fill-color);\n",
              "    border-color: transparent;\n",
              "    border-bottom-color: var(--fill-color);\n",
              "    animation:\n",
              "      spin 1s steps(1) infinite;\n",
              "  }\n",
              "\n",
              "  @keyframes spin {\n",
              "    0% {\n",
              "      border-color: transparent;\n",
              "      border-bottom-color: var(--fill-color);\n",
              "      border-left-color: var(--fill-color);\n",
              "    }\n",
              "    20% {\n",
              "      border-color: transparent;\n",
              "      border-left-color: var(--fill-color);\n",
              "      border-top-color: var(--fill-color);\n",
              "    }\n",
              "    30% {\n",
              "      border-color: transparent;\n",
              "      border-left-color: var(--fill-color);\n",
              "      border-top-color: var(--fill-color);\n",
              "      border-right-color: var(--fill-color);\n",
              "    }\n",
              "    40% {\n",
              "      border-color: transparent;\n",
              "      border-right-color: var(--fill-color);\n",
              "      border-top-color: var(--fill-color);\n",
              "    }\n",
              "    60% {\n",
              "      border-color: transparent;\n",
              "      border-right-color: var(--fill-color);\n",
              "    }\n",
              "    80% {\n",
              "      border-color: transparent;\n",
              "      border-right-color: var(--fill-color);\n",
              "      border-bottom-color: var(--fill-color);\n",
              "    }\n",
              "    90% {\n",
              "      border-color: transparent;\n",
              "      border-bottom-color: var(--fill-color);\n",
              "    }\n",
              "  }\n",
              "</style>\n",
              "\n",
              "  <script>\n",
              "    async function quickchart(key) {\n",
              "      const quickchartButtonEl =\n",
              "        document.querySelector('#' + key + ' button');\n",
              "      quickchartButtonEl.disabled = true;  // To prevent multiple clicks.\n",
              "      quickchartButtonEl.classList.add('colab-df-spinner');\n",
              "      try {\n",
              "        const charts = await google.colab.kernel.invokeFunction(\n",
              "            'suggestCharts', [key], {});\n",
              "      } catch (error) {\n",
              "        console.error('Error during call to suggestCharts:', error);\n",
              "      }\n",
              "      quickchartButtonEl.classList.remove('colab-df-spinner');\n",
              "      quickchartButtonEl.classList.add('colab-df-quickchart-complete');\n",
              "    }\n",
              "    (() => {\n",
              "      let quickchartButtonEl =\n",
              "        document.querySelector('#df-9a5d02eb-68fd-4c3c-b203-020070de24f3 button');\n",
              "      quickchartButtonEl.style.display =\n",
              "        google.colab.kernel.accessAllowed ? 'block' : 'none';\n",
              "    })();\n",
              "  </script>\n",
              "</div>\n",
              "\n",
              "    </div>\n",
              "  </div>\n"
            ],
            "application/vnd.google.colaboratory.intrinsic+json": {
              "type": "dataframe",
              "summary": "{\n  \"name\": \"display(df[[\\\"job_posting\\\", \\\"clean_job_posting\\\"]])\",\n  \"rows\": 5,\n  \"fields\": [\n    {\n      \"column\": \"job_posting\",\n      \"properties\": {\n        \"dtype\": \"string\",\n        \"num_unique_values\": 5,\n        \"samples\": [\n          \"Gaji 30 juta per bulan! Kerja santai dari rumah, cukup rebahan, langsung WA admin ini!!!\",\n          \"Dibutuhkan tenaga pengajar untuk kursus coding, pengalaman 2 tahun, full-time.\",\n          \"Lowongan kerja di restoran Jepang, pengalaman minimal 1 tahun, kontrak resmi.\"\n        ],\n        \"semantic_type\": \"\",\n        \"description\": \"\"\n      }\n    },\n    {\n      \"column\": \"clean_job_posting\",\n      \"properties\": {\n        \"dtype\": \"string\",\n        \"num_unique_values\": 5,\n        \"samples\": [\n          \"gaji juta kerja santai rumah rebahan langsung wa admin\",\n          \"dibutuhkan tenaga pengajar kursus coding pengalaman fulltime\",\n          \"lowongan kerja restoran jepang pengalaman minimal kontrak resmi\"\n        ],\n        \"semantic_type\": \"\",\n        \"description\": \"\"\n      }\n    }\n  ]\n}"
            }
          },
          "metadata": {}
        }
      ]
    },
    {
      "cell_type": "code",
      "source": [
        "import nltk\n",
        "nltk.download('punkt')\n"
      ],
      "metadata": {
        "colab": {
          "base_uri": "https://localhost:8080/"
        },
        "id": "MUywned0isl8",
        "outputId": "973a99fb-d29d-469d-8811-473350c24fdb"
      },
      "execution_count": null,
      "outputs": [
        {
          "output_type": "stream",
          "name": "stderr",
          "text": [
            "[nltk_data] Downloading package punkt to /root/nltk_data...\n",
            "[nltk_data]   Package punkt is already up-to-date!\n"
          ]
        },
        {
          "output_type": "execute_result",
          "data": {
            "text/plain": [
              "True"
            ]
          },
          "metadata": {},
          "execution_count": 5
        }
      ]
    },
    {
      "cell_type": "markdown",
      "source": [
        "**LANGKAH 4: Konversi Teks ke Representasi Numerik (TF-IDF)**"
      ],
      "metadata": {
        "id": "r5WJUmYAtGK6"
      }
    },
    {
      "cell_type": "code",
      "source": [
        "# Menggunakan TF-IDF untuk mengubah teks menjadi angka\n",
        "vectorizer = TfidfVectorizer()\n",
        "X = vectorizer.fit_transform(df[\"clean_job_posting\"])  # Ubah teks jadi vektor\n",
        "\n",
        "# Konversi label 'asli' & 'scam' ke angka (asli=0, scam=1)\n",
        "y = df[\"label\"].map({\"asli\": 0, \"scam\": 1})\n",
        "\n",
        "# Membagi dataset menjadi training (80%) dan testing (20%)\n",
        "X_train, X_test, y_train, y_test = train_test_split(X, y, test_size=0.2, random_state=42)\n",
        "\n",
        "print(\"✅ Teks berhasil dikonversi ke bentuk numerik!\")\n",
        "print(f\"Jumlah data latih: {X_train.shape[0]}, Jumlah data uji: {X_test.shape[0]}\")\n"
      ],
      "metadata": {
        "colab": {
          "base_uri": "https://localhost:8080/"
        },
        "id": "KaKBerydivTb",
        "outputId": "8d6194d4-5093-4c51-dded-bd70af59160b"
      },
      "execution_count": null,
      "outputs": [
        {
          "output_type": "stream",
          "name": "stdout",
          "text": [
            "✅ Teks berhasil dikonversi ke bentuk numerik!\n",
            "Jumlah data latih: 4, Jumlah data uji: 1\n"
          ]
        }
      ]
    },
    {
      "cell_type": "code",
      "source": [
        "print(df.columns)\n"
      ],
      "metadata": {
        "colab": {
          "base_uri": "https://localhost:8080/"
        },
        "id": "8B_fpJixjAZq",
        "outputId": "3382b6cd-2197-4e70-e258-ea7da7053d63"
      },
      "execution_count": null,
      "outputs": [
        {
          "output_type": "stream",
          "name": "stdout",
          "text": [
            "Index(['job_posting', 'label'], dtype='object')\n"
          ]
        }
      ]
    },
    {
      "cell_type": "code",
      "source": [
        "# Import pustaka tambahan\n",
        "from nltk.corpus import stopwords\n",
        "from nltk.tokenize import word_tokenize\n",
        "import string\n",
        "\n",
        "# Ambil stopwords bahasa Indonesia\n",
        "stop_words = set(stopwords.words('indonesian'))\n",
        "\n",
        "def preprocess_text(text):\n",
        "    # Ubah teks menjadi huruf kecil\n",
        "    text = text.lower()\n",
        "\n",
        "    # Hapus karakter khusus, angka, dan tanda baca\n",
        "    text = re.sub(r'\\d+', '', text)  # Hapus angka\n",
        "    text = text.translate(str.maketrans(\"\", \"\", string.punctuation))  # Hapus tanda baca\n",
        "\n",
        "    # Tokenisasi (memisahkan kata-kata)\n",
        "    words = word_tokenize(text)\n",
        "\n",
        "    # Hapus stopwords\n",
        "    words = [word for word in words if word not in stop_words]\n",
        "\n",
        "    # Gabungkan kembali kata-kata yang sudah dibersihkan\n",
        "    return \" \".join(words)\n",
        "\n",
        "# Terapkan preprocessing ke dataset\n",
        "df[\"clean_job_posting\"] = df[\"job_posting\"].apply(preprocess_text)\n",
        "\n",
        "# Periksa apakah preprocessing berhasil\n",
        "print(df.head())\n"
      ],
      "metadata": {
        "colab": {
          "base_uri": "https://localhost:8080/"
        },
        "id": "B5kAQn80jL6i",
        "outputId": "5bd91a96-9518-4b4d-f74e-5afa67f61dd5"
      },
      "execution_count": null,
      "outputs": [
        {
          "output_type": "stream",
          "name": "stdout",
          "text": [
            "                                         job_posting label  \\\n",
            "0  Dibutuhkan admin online shop, kerja dari rumah...  asli   \n",
            "1  Gaji 30 juta per bulan! Kerja santai dari ruma...  scam   \n",
            "2  Lowongan kerja di restoran Jepang, pengalaman ...  asli   \n",
            "3  Peluang emas! Modal nol rupiah, kerja bebas wa...  scam   \n",
            "4  Dibutuhkan tenaga pengajar untuk kursus coding...  asli   \n",
            "\n",
            "                                   clean_job_posting  \n",
            "0  dibutuhkan admin online shop kerja rumah gaji ...  \n",
            "1  gaji juta kerja santai rumah rebahan langsung ...  \n",
            "2  lowongan kerja restoran jepang pengalaman mini...  \n",
            "3  peluang emas modal nol rupiah kerja bebas daft...  \n",
            "4  dibutuhkan tenaga pengajar kursus coding penga...  \n"
          ]
        }
      ]
    },
    {
      "cell_type": "code",
      "source": [
        "import nltk\n",
        "nltk.download('punkt')\n"
      ],
      "metadata": {
        "colab": {
          "base_uri": "https://localhost:8080/"
        },
        "id": "VjZQsTY6jWlj",
        "outputId": "4bb3e8e8-626e-4731-a562-833cfd5ab967"
      },
      "execution_count": null,
      "outputs": [
        {
          "output_type": "stream",
          "name": "stderr",
          "text": [
            "[nltk_data] Downloading package punkt to /root/nltk_data...\n",
            "[nltk_data]   Package punkt is already up-to-date!\n"
          ]
        },
        {
          "output_type": "execute_result",
          "data": {
            "text/plain": [
              "True"
            ]
          },
          "metadata": {},
          "execution_count": 9
        }
      ]
    },
    {
      "cell_type": "code",
      "source": [
        "# Import pustaka tambahan\n",
        "from nltk.corpus import stopwords\n",
        "from nltk.tokenize import word_tokenize\n",
        "import string\n",
        "\n",
        "# Ambil stopwords bahasa Indonesia\n",
        "stop_words = set(stopwords.words('indonesian'))\n",
        "\n",
        "def preprocess_text(text):\n",
        "    # Ubah teks menjadi huruf kecil\n",
        "    text = text.lower()\n",
        "\n",
        "    # Hapus karakter khusus, angka, dan tanda baca\n",
        "    text = re.sub(r'\\d+', '', text)  # Hapus angka\n",
        "    text = text.translate(str.maketrans(\"\", \"\", string.punctuation))  # Hapus tanda baca\n",
        "\n",
        "    # Tokenisasi (memisahkan kata-kata)\n",
        "    words = word_tokenize(text)\n",
        "\n",
        "    # Hapus stopwords\n",
        "    words = [word for word in words if word not in stop_words]\n",
        "\n",
        "    # Gabungkan kembali kata-kata yang sudah dibersihkan\n",
        "    return \" \".join(words)\n",
        "\n",
        "# Terapkan preprocessing ke dataset\n",
        "df[\"clean_job_posting\"] = df[\"job_posting\"].apply(preprocess_text)\n",
        "\n",
        "# Periksa apakah preprocessing berhasil\n",
        "print(df.head())\n"
      ],
      "metadata": {
        "colab": {
          "base_uri": "https://localhost:8080/"
        },
        "id": "jQ1z4f7BjYKz",
        "outputId": "981ee709-36e4-4f2a-ce41-1fd6582bf8cd"
      },
      "execution_count": null,
      "outputs": [
        {
          "output_type": "stream",
          "name": "stdout",
          "text": [
            "                                         job_posting label  \\\n",
            "0  Dibutuhkan admin online shop, kerja dari rumah...  asli   \n",
            "1  Gaji 30 juta per bulan! Kerja santai dari ruma...  scam   \n",
            "2  Lowongan kerja di restoran Jepang, pengalaman ...  asli   \n",
            "3  Peluang emas! Modal nol rupiah, kerja bebas wa...  scam   \n",
            "4  Dibutuhkan tenaga pengajar untuk kursus coding...  asli   \n",
            "\n",
            "                                   clean_job_posting  \n",
            "0  dibutuhkan admin online shop kerja rumah gaji ...  \n",
            "1  gaji juta kerja santai rumah rebahan langsung ...  \n",
            "2  lowongan kerja restoran jepang pengalaman mini...  \n",
            "3  peluang emas modal nol rupiah kerja bebas daft...  \n",
            "4  dibutuhkan tenaga pengajar kursus coding penga...  \n"
          ]
        }
      ]
    },
    {
      "cell_type": "code",
      "source": [
        "import nltk\n",
        "nltk.download('punkt')\n",
        "nltk.download('stopwords')\n"
      ],
      "metadata": {
        "colab": {
          "base_uri": "https://localhost:8080/"
        },
        "id": "Js9z15ggjiwk",
        "outputId": "92008e73-d36c-4998-b8d5-673f02d8316b"
      },
      "execution_count": null,
      "outputs": [
        {
          "output_type": "stream",
          "name": "stderr",
          "text": [
            "[nltk_data] Downloading package punkt to /root/nltk_data...\n",
            "[nltk_data]   Package punkt is already up-to-date!\n",
            "[nltk_data] Downloading package stopwords to /root/nltk_data...\n",
            "[nltk_data]   Package stopwords is already up-to-date!\n"
          ]
        },
        {
          "output_type": "execute_result",
          "data": {
            "text/plain": [
              "True"
            ]
          },
          "metadata": {},
          "execution_count": 11
        }
      ]
    },
    {
      "cell_type": "code",
      "source": [
        "# Import pustaka tambahan\n",
        "from nltk.corpus import stopwords\n",
        "from nltk.tokenize import word_tokenize\n",
        "import string\n",
        "import re\n",
        "\n",
        "# Ambil stopwords bahasa Indonesia\n",
        "stop_words = set(stopwords.words('indonesian'))\n",
        "\n",
        "def preprocess_text(text):\n",
        "    # Ubah teks menjadi huruf kecil\n",
        "    text = text.lower()\n",
        "\n",
        "    # Hapus karakter khusus, angka, dan tanda baca\n",
        "    text = re.sub(r'\\d+', '', text)  # Hapus angka\n",
        "    text = text.translate(str.maketrans(\"\", \"\", string.punctuation))  # Hapus tanda baca\n",
        "\n",
        "    # Tokenisasi (memisahkan kata-kata)\n",
        "    words = word_tokenize(text)\n",
        "\n",
        "    # Hapus stopwords\n",
        "    words = [word for word in words if word not in stop_words]\n",
        "\n",
        "    # Gabungkan kembali kata-kata yang sudah dibersihkan\n",
        "    return \" \".join(words)\n",
        "\n",
        "# Terapkan preprocessing ke dataset\n",
        "df[\"clean_job_posting\"] = df[\"job_posting\"].apply(preprocess_text)\n",
        "\n",
        "# Periksa apakah preprocessing berhasil\n",
        "print(df.head())\n"
      ],
      "metadata": {
        "colab": {
          "base_uri": "https://localhost:8080/"
        },
        "id": "J6CVLCtRjkD0",
        "outputId": "eb8712f0-acae-4716-f54d-2cccc629a7ea"
      },
      "execution_count": null,
      "outputs": [
        {
          "output_type": "stream",
          "name": "stdout",
          "text": [
            "                                         job_posting label  \\\n",
            "0  Dibutuhkan admin online shop, kerja dari rumah...  asli   \n",
            "1  Gaji 30 juta per bulan! Kerja santai dari ruma...  scam   \n",
            "2  Lowongan kerja di restoran Jepang, pengalaman ...  asli   \n",
            "3  Peluang emas! Modal nol rupiah, kerja bebas wa...  scam   \n",
            "4  Dibutuhkan tenaga pengajar untuk kursus coding...  asli   \n",
            "\n",
            "                                   clean_job_posting  \n",
            "0  dibutuhkan admin online shop kerja rumah gaji ...  \n",
            "1  gaji juta kerja santai rumah rebahan langsung ...  \n",
            "2  lowongan kerja restoran jepang pengalaman mini...  \n",
            "3  peluang emas modal nol rupiah kerja bebas daft...  \n",
            "4  dibutuhkan tenaga pengajar kursus coding penga...  \n"
          ]
        }
      ]
    },
    {
      "cell_type": "code",
      "source": [
        "import nltk\n",
        "nltk.download('punkt')\n",
        "nltk.download('stopwords')\n"
      ],
      "metadata": {
        "colab": {
          "base_uri": "https://localhost:8080/"
        },
        "id": "sD1XEZR3jwYK",
        "outputId": "1372b2bf-5706-4375-bc88-77bcb5676ce6"
      },
      "execution_count": null,
      "outputs": [
        {
          "output_type": "stream",
          "name": "stderr",
          "text": [
            "[nltk_data] Downloading package punkt to /root/nltk_data...\n",
            "[nltk_data]   Package punkt is already up-to-date!\n",
            "[nltk_data] Downloading package stopwords to /root/nltk_data...\n",
            "[nltk_data]   Package stopwords is already up-to-date!\n"
          ]
        },
        {
          "output_type": "execute_result",
          "data": {
            "text/plain": [
              "True"
            ]
          },
          "metadata": {},
          "execution_count": 13
        }
      ]
    },
    {
      "cell_type": "code",
      "source": [
        "# Import pustaka tambahan\n",
        "from nltk.corpus import stopwords\n",
        "from nltk.tokenize import word_tokenize\n",
        "import string\n",
        "import re\n",
        "\n",
        "# Ambil stopwords bahasa Indonesia\n",
        "stop_words = set(stopwords.words('indonesian'))\n",
        "\n",
        "def preprocess_text(text):\n",
        "    # Ubah teks menjadi huruf kecil\n",
        "    text = text.lower()\n",
        "\n",
        "    # Hapus karakter khusus, angka, dan tanda baca\n",
        "    text = re.sub(r'\\d+', '', text)  # Hapus angka\n",
        "    text = text.translate(str.maketrans(\"\", \"\", string.punctuation))  # Hapus tanda baca\n",
        "\n",
        "    # Tokenisasi (memisahkan kata-kata)\n",
        "    words = word_tokenize(text)\n",
        "\n",
        "    # Hapus stopwords\n",
        "    words = [word for word in words if word not in stop_words]\n",
        "\n",
        "    # Gabungkan kembali kata-kata yang sudah dibersihkan\n",
        "    return \" \".join(words)\n",
        "\n",
        "# Terapkan preprocessing ke dataset\n",
        "df[\"clean_job_posting\"] = df[\"job_posting\"].apply(preprocess_text)\n",
        "\n",
        "# Periksa apakah preprocessing berhasil\n",
        "print(df.head())\n"
      ],
      "metadata": {
        "colab": {
          "base_uri": "https://localhost:8080/"
        },
        "id": "UE5Z0cNxj4qc",
        "outputId": "f9afe799-a813-4a9f-ca94-2493c98182ee"
      },
      "execution_count": null,
      "outputs": [
        {
          "output_type": "stream",
          "name": "stdout",
          "text": [
            "                                         job_posting label  \\\n",
            "0  Dibutuhkan admin online shop, kerja dari rumah...  asli   \n",
            "1  Gaji 30 juta per bulan! Kerja santai dari ruma...  scam   \n",
            "2  Lowongan kerja di restoran Jepang, pengalaman ...  asli   \n",
            "3  Peluang emas! Modal nol rupiah, kerja bebas wa...  scam   \n",
            "4  Dibutuhkan tenaga pengajar untuk kursus coding...  asli   \n",
            "\n",
            "                                   clean_job_posting  \n",
            "0  dibutuhkan admin online shop kerja rumah gaji ...  \n",
            "1  gaji juta kerja santai rumah rebahan langsung ...  \n",
            "2  lowongan kerja restoran jepang pengalaman mini...  \n",
            "3  peluang emas modal nol rupiah kerja bebas daft...  \n",
            "4  dibutuhkan tenaga pengajar kursus coding penga...  \n"
          ]
        }
      ]
    },
    {
      "cell_type": "code",
      "source": [
        "import nltk\n",
        "nltk.download('punkt_tab') # Download the punkt_tab data package"
      ],
      "metadata": {
        "colab": {
          "base_uri": "https://localhost:8080/"
        },
        "id": "i9xJo3qPj5T8",
        "outputId": "1c3eaa91-4a04-481e-d104-26b40a5aebc7"
      },
      "execution_count": null,
      "outputs": [
        {
          "output_type": "stream",
          "name": "stderr",
          "text": [
            "[nltk_data] Downloading package punkt_tab to /root/nltk_data...\n",
            "[nltk_data]   Unzipping tokenizers/punkt_tab.zip.\n"
          ]
        },
        {
          "output_type": "execute_result",
          "data": {
            "text/plain": [
              "True"
            ]
          },
          "metadata": {},
          "execution_count": 15
        }
      ]
    },
    {
      "cell_type": "code",
      "source": [
        "def preprocess_text(text):\n",
        "    # Ubah teks menjadi huruf kecil\n",
        "    text = text.lower()\n",
        "\n",
        "    # Hapus karakter khusus, angka, dan tanda baca\n",
        "    text = re.sub(r'\\d+', '', text)  # Hapus angka\n",
        "    text = text.translate(str.maketrans(\"\", \"\", string.punctuation))  # Hapus tanda baca\n",
        "\n",
        "    # Tokenisasi (memisahkan kata-kata)\n",
        "    words = word_tokenize(text)\n",
        "\n",
        "    # Hapus stopwords\n",
        "    words = [word for word in words if word not in stop_words]\n",
        "\n",
        "    # Gabungkan kembali kata-kata yang sudah dibersihkan\n",
        "    # Handle empty words list\n",
        "    if words:  # Check if words list is not empty\n",
        "        return \" \".join(words)\n",
        "    else:\n",
        "        return \"\"  # Return empty string if no words"
      ],
      "metadata": {
        "id": "9fniOu6KkUQN"
      },
      "execution_count": null,
      "outputs": []
    },
    {
      "cell_type": "code",
      "source": [
        "print(df.columns)\n"
      ],
      "metadata": {
        "colab": {
          "base_uri": "https://localhost:8080/"
        },
        "id": "AqLwrzd_lTCx",
        "outputId": "411f821e-b86c-4550-c40b-4adfbc72a1ef"
      },
      "execution_count": null,
      "outputs": [
        {
          "output_type": "stream",
          "name": "stdout",
          "text": [
            "Index(['job_posting', 'label'], dtype='object')\n"
          ]
        }
      ]
    },
    {
      "cell_type": "code",
      "source": [
        "# Import pustaka tambahan\n",
        "from nltk.corpus import stopwords\n",
        "from nltk.tokenize import word_tokenize\n",
        "import string\n",
        "import re\n",
        "\n",
        "# Ambil stopwords bahasa Indonesia\n",
        "stop_words = set(stopwords.words('indonesian'))\n",
        "\n",
        "def preprocess_text(text):\n",
        "    # Ubah teks menjadi huruf kecil\n",
        "    text = text.lower()\n",
        "\n",
        "    # Hapus karakter khusus, angka, dan tanda baca\n",
        "    text = re.sub(r'\\d+', '', text)  # Hapus angka\n",
        "    text = text.translate(str.maketrans(\"\", \"\", string.punctuation))  # Hapus tanda baca\n",
        "\n",
        "    # Tokenisasi (memisahkan kata-kata)\n",
        "    words = word_tokenize(text)\n",
        "\n",
        "    # Hapus stopwords\n",
        "    words = [word for word in words if word not in stop_words]\n",
        "\n",
        "    # Gabungkan kembali kata-kata yang sudah dibersihkan\n",
        "    return \" \".join(words)\n",
        "\n",
        "# Terapkan preprocessing ke dataset\n",
        "df[\"clean_job_posting\"] = df[\"job_posting\"].apply(preprocess_text)\n",
        "\n",
        "# Periksa apakah preprocessing berhasil\n",
        "print(df.head())\n",
        "print(df.columns)  # Pastikan 'clean_job_posting' muncul\n"
      ],
      "metadata": {
        "colab": {
          "base_uri": "https://localhost:8080/"
        },
        "id": "UpllbsMtlkk5",
        "outputId": "ce74f689-47f1-4415-92b7-ee378014b943"
      },
      "execution_count": null,
      "outputs": [
        {
          "output_type": "stream",
          "name": "stdout",
          "text": [
            "                                         job_posting label  \\\n",
            "0  Dibutuhkan admin online shop, kerja dari rumah...  asli   \n",
            "1  Gaji 30 juta per bulan! Kerja santai dari ruma...  scam   \n",
            "2  Lowongan kerja di restoran Jepang, pengalaman ...  asli   \n",
            "3  Peluang emas! Modal nol rupiah, kerja bebas wa...  scam   \n",
            "4  Dibutuhkan tenaga pengajar untuk kursus coding...  asli   \n",
            "\n",
            "                                   clean_job_posting  \n",
            "0  dibutuhkan admin online shop kerja rumah gaji ...  \n",
            "1  gaji juta kerja santai rumah rebahan langsung ...  \n",
            "2  lowongan kerja restoran jepang pengalaman mini...  \n",
            "3  peluang emas modal nol rupiah kerja bebas daft...  \n",
            "4  dibutuhkan tenaga pengajar kursus coding penga...  \n",
            "Index(['job_posting', 'label', 'clean_job_posting'], dtype='object')\n"
          ]
        }
      ]
    },
    {
      "cell_type": "code",
      "source": [
        "from sklearn.feature_extraction.text import TfidfVectorizer\n",
        "from sklearn.model_selection import train_test_split\n",
        "\n",
        "# Konversi teks ke bentuk numerik dengan TF-IDF\n",
        "vectorizer = TfidfVectorizer()\n",
        "X = vectorizer.fit_transform(df[\"clean_job_posting\"])  # Ubah teks jadi vektor numerik\n",
        "\n",
        "# Konversi label 'asli' & 'scam' ke angka (asli=0, scam=1)\n",
        "y = df[\"label\"].map({\"asli\": 0, \"scam\": 1})\n",
        "\n",
        "# Membagi dataset menjadi training (80%) dan testing (20%)\n",
        "X_train, X_test, y_train, y_test = train_test_split(X, y, test_size=0.2, random_state=42)\n",
        "\n",
        "print(\"✅ Teks berhasil dikonversi ke bentuk numerik!\")\n",
        "print(f\"Jumlah data latih: {X_train.shape[0]}, Jumlah data uji: {X_test.shape[0]}\")\n"
      ],
      "metadata": {
        "colab": {
          "base_uri": "https://localhost:8080/"
        },
        "id": "JkuSZ-fhl6Sy",
        "outputId": "2cd3df55-e123-434e-d2ea-258809446880"
      },
      "execution_count": null,
      "outputs": [
        {
          "output_type": "stream",
          "name": "stdout",
          "text": [
            "✅ Teks berhasil dikonversi ke bentuk numerik!\n",
            "Jumlah data latih: 4, Jumlah data uji: 1\n"
          ]
        }
      ]
    },
    {
      "cell_type": "markdown",
      "source": [
        "**LANGKAH 5: Melatih Model AI untuk Mendeteksi Iklan Scam**"
      ],
      "metadata": {
        "id": "hA3oNpgSmHg3"
      }
    },
    {
      "cell_type": "code",
      "source": [
        "from sklearn.naive_bayes import MultinomialNB\n",
        "from sklearn.metrics import accuracy_score, classification_report\n",
        "\n",
        "# Membuat model Naïve Bayes\n",
        "model = MultinomialNB()\n",
        "\n",
        "# Melatih model dengan data latih\n",
        "model.fit(X_train, y_train)\n",
        "\n",
        "# Memprediksi data uji\n",
        "y_pred = model.predict(X_test)\n",
        "\n",
        "# Evaluasi akurasi model\n",
        "accuracy = accuracy_score(y_test, y_pred)\n",
        "print(f\"✅ Model berhasil dilatih! Akurasi: {accuracy:.2f}\")\n",
        "\n",
        "# Laporan klasifikasi\n",
        "print(\"\\nLaporan Klasifikasi:\")\n",
        "print(classification_report(y_test, y_pred))\n"
      ],
      "metadata": {
        "colab": {
          "base_uri": "https://localhost:8080/"
        },
        "id": "EbxEq0c6mK6v",
        "outputId": "41d837ef-01b3-4aff-bdde-bf86fc7143fb"
      },
      "execution_count": null,
      "outputs": [
        {
          "output_type": "stream",
          "name": "stdout",
          "text": [
            "✅ Model berhasil dilatih! Akurasi: 0.00\n",
            "\n",
            "Laporan Klasifikasi:\n",
            "              precision    recall  f1-score   support\n",
            "\n",
            "           0       0.00      0.00      0.00       0.0\n",
            "           1       0.00      0.00      0.00       1.0\n",
            "\n",
            "    accuracy                           0.00       1.0\n",
            "   macro avg       0.00      0.00      0.00       1.0\n",
            "weighted avg       0.00      0.00      0.00       1.0\n",
            "\n"
          ]
        },
        {
          "output_type": "stream",
          "name": "stderr",
          "text": [
            "/usr/local/lib/python3.11/dist-packages/sklearn/metrics/_classification.py:1565: UndefinedMetricWarning: Precision is ill-defined and being set to 0.0 in labels with no predicted samples. Use `zero_division` parameter to control this behavior.\n",
            "  _warn_prf(average, modifier, f\"{metric.capitalize()} is\", len(result))\n",
            "/usr/local/lib/python3.11/dist-packages/sklearn/metrics/_classification.py:1565: UndefinedMetricWarning: Recall is ill-defined and being set to 0.0 in labels with no true samples. Use `zero_division` parameter to control this behavior.\n",
            "  _warn_prf(average, modifier, f\"{metric.capitalize()} is\", len(result))\n",
            "/usr/local/lib/python3.11/dist-packages/sklearn/metrics/_classification.py:1565: UndefinedMetricWarning: Precision is ill-defined and being set to 0.0 in labels with no predicted samples. Use `zero_division` parameter to control this behavior.\n",
            "  _warn_prf(average, modifier, f\"{metric.capitalize()} is\", len(result))\n",
            "/usr/local/lib/python3.11/dist-packages/sklearn/metrics/_classification.py:1565: UndefinedMetricWarning: Recall is ill-defined and being set to 0.0 in labels with no true samples. Use `zero_division` parameter to control this behavior.\n",
            "  _warn_prf(average, modifier, f\"{metric.capitalize()} is\", len(result))\n",
            "/usr/local/lib/python3.11/dist-packages/sklearn/metrics/_classification.py:1565: UndefinedMetricWarning: Precision is ill-defined and being set to 0.0 in labels with no predicted samples. Use `zero_division` parameter to control this behavior.\n",
            "  _warn_prf(average, modifier, f\"{metric.capitalize()} is\", len(result))\n",
            "/usr/local/lib/python3.11/dist-packages/sklearn/metrics/_classification.py:1565: UndefinedMetricWarning: Recall is ill-defined and being set to 0.0 in labels with no true samples. Use `zero_division` parameter to control this behavior.\n",
            "  _warn_prf(average, modifier, f\"{metric.capitalize()} is\", len(result))\n"
          ]
        }
      ]
    },
    {
      "cell_type": "code",
      "source": [
        "# Melatih model dengan seluruh dataset tanpa split\n",
        "model.fit(X, y)\n",
        "\n",
        "# Memprediksi ulang data yang sama\n",
        "y_pred = model.predict(X)\n",
        "\n",
        "# Evaluasi akurasi model\n",
        "accuracy = accuracy_score(y, y_pred)\n",
        "print(f\"✅ Model berhasil dilatih ulang! Akurasi: {accuracy:.2f}\")\n",
        "\n",
        "# Laporan klasifikasi\n",
        "print(\"\\nLaporan Klasifikasi:\")\n",
        "print(classification_report(y, y_pred))\n"
      ],
      "metadata": {
        "colab": {
          "base_uri": "https://localhost:8080/"
        },
        "id": "2d74cSpOmccl",
        "outputId": "b2de7b77-c79e-47de-fa42-59c6b8ed44f6"
      },
      "execution_count": null,
      "outputs": [
        {
          "output_type": "stream",
          "name": "stdout",
          "text": [
            "✅ Model berhasil dilatih ulang! Akurasi: 1.00\n",
            "\n",
            "Laporan Klasifikasi:\n",
            "              precision    recall  f1-score   support\n",
            "\n",
            "           0       1.00      1.00      1.00         3\n",
            "           1       1.00      1.00      1.00         2\n",
            "\n",
            "    accuracy                           1.00         5\n",
            "   macro avg       1.00      1.00      1.00         5\n",
            "weighted avg       1.00      1.00      1.00         5\n",
            "\n"
          ]
        }
      ]
    },
    {
      "cell_type": "markdown",
      "source": [
        "**LANGKAH 6: Pengujian Model dengan Iklan Baru (Crowdsourcing via Google Form)**\n"
      ],
      "metadata": {
        "id": "cfHOrZHamoMX"
      }
    },
    {
      "cell_type": "code",
      "source": [
        "import pandas as pd\n",
        "\n",
        "# Mount Google Drive\n",
        "from google.colab import auth\n",
        "auth.authenticate_user()\n",
        "\n",
        "import gspread\n",
        "from google.auth import default\n",
        "\n",
        "creds, _ = default()\n",
        "gc = gspread.authorize(creds)\n",
        "\n",
        "# Ganti dengan link Google Sheets yang berisi data dari Google Form\n",
        "sheet_url = \"https://docs.google.com/spreadsheets/d/1cRbwQnDJSuZzDIfyICuoFtU9aWRpdxABLndIcL3cut0/edit?usp=sharing\"\n",
        "\n",
        "# Baca data Google Sheets ke Pandas DataFrame\n",
        "sheet = gc.open_by_url(sheet_url).sheet1\n",
        "data = sheet.get_all_records()\n",
        "df = pd.DataFrame(data)\n",
        "\n",
        "# Tampilkan 5 data pertama\n",
        "print(df.head())\n"
      ],
      "metadata": {
        "colab": {
          "base_uri": "https://localhost:8080/"
        },
        "id": "kZlYj_3H1xXP",
        "outputId": "fbc945bb-3737-4dab-eb03-9b712e977168"
      },
      "execution_count": null,
      "outputs": [
        {
          "output_type": "stream",
          "name": "stdout",
          "text": [
            "             Timestamp  \\\n",
            "0  01/03/2025 17:27:29   \n",
            "1  01/03/2025 17:59:17   \n",
            "2  01/03/2025 18:00:04   \n",
            "3  01/03/2025 18:01:04   \n",
            "4  01/03/2025 18:01:42   \n",
            "\n",
            "  Judul Iklan Pekerjaan\\nContoh: \"Lowongan kerja admin online shop, gaji 30 juta per bulan!\"  \\\n",
            "0     Quality Assurance Staff (QMS Audit Specialist)                                           \n",
            "1                         Butuh karyawan secepatnya!                                           \n",
            "2              Di cari karyawan untuk jaga toko kue                                            \n",
            "3        CARI KARYAWAN BARU KERJA PABRIK AIR MINERAL                                           \n",
            "4  Di cari karyawan buat  Jaga Tempat Laundry Ker...                                           \n",
            "\n",
            "  Deskripsi Iklan Pekerjaan (Paragraph)\\nContoh: \"Dibutuhkan segera admin online, bisa kerja dari rumah, hanya modal HP! Gaji 30 juta per bulan! WA admin sekarang.\"  \\\n",
            "0  As a Quality Management System (QMS) Specialis...                                                                                                                   \n",
            "1  Kalo serius bisa langsung dtg besok jam 6 pagi...                                                                                                                   \n",
            "2  Laki² / perempuan\\nKerja jam 08:00 pulang jam ...                                                                                                                   \n",
            "3  -Kerja 8 jam, dari jam 8 pagi – jam 4 sore\\n-G...                                                                                                                   \n",
            "4  Laki² / perempuan  Gaji 2 juta / Bulan,\\nUang ...                                                                                                                   \n",
            "\n",
            "  Sumber Iklan Pekerjaan   \\\n",
            "0                  Google   \n",
            "1                Facebook   \n",
            "2                Facebook   \n",
            "3                Facebook   \n",
            "4                Facebook   \n",
            "\n",
            "  Menurut Anda, Apakah pekerjaan ini mencurigakan atau scam?  \\\n",
            "0                                    Tidak, ini asli           \n",
            "1                             Ragu-ragu / Tidak tahu           \n",
            "2                             Ragu-ragu / Tidak tahu           \n",
            "3                                       Ya, ini scam           \n",
            "4                             Ragu-ragu / Tidak tahu           \n",
            "\n",
            "  Alasan mengapa pekerjaan ini Anda anggap asli atau scam?  \\\n",
            "0                    Alamat jelas, kualifikasi jelas         \n",
            "1  ada video, tapi tidak tahu apakah benar atau t...         \n",
            "2                                 info tidak lengkap         \n",
            "3                  tidak perlu ijazah dan pengalaman         \n",
            "4                                        tidak jelas         \n",
            "\n",
            "  Apakah ada permintaan uang di awal?  \\\n",
            "0                               Tidak   \n",
            "1                               Tidak   \n",
            "2                               Tidak   \n",
            "3                               Tidak   \n",
            "4                               Tidak   \n",
            "\n",
            "  Apakah kontak perekrut mencurigakan? (Misalnya nomor WhatsApp tanpa identitas perusahaan resmi)  \n",
            "0                                              Tidak                                               \n",
            "1                                                 Ya                                               \n",
            "2                                                 Ya                                               \n",
            "3                                                 Ya                                               \n",
            "4                                                 Ya                                               \n"
          ]
        }
      ]
    },
    {
      "cell_type": "markdown",
      "source": [
        "Data dalam bentuk foto lebih lama prosesnya, kita akan mulai dengan data dalam bentuk teks langsung saja!"
      ],
      "metadata": {
        "id": "_npqFeeB7npn"
      }
    },
    {
      "cell_type": "markdown",
      "source": [
        "Mulai proses Pembersihan Data"
      ],
      "metadata": {
        "id": "DWQ-WcFqZJ0g"
      }
    },
    {
      "cell_type": "code",
      "source": [
        "print(df.columns)\n"
      ],
      "metadata": {
        "colab": {
          "base_uri": "https://localhost:8080/"
        },
        "id": "6M2Se1ZAZNY5",
        "outputId": "1bb32fcf-647a-4859-90fa-8d9d94d2105d"
      },
      "execution_count": null,
      "outputs": [
        {
          "output_type": "stream",
          "name": "stdout",
          "text": [
            "Index(['Timestamp',\n",
            "       'Judul Iklan Pekerjaan\\nContoh: \"Lowongan kerja admin online shop, gaji 30 juta per bulan!\"',\n",
            "       'Deskripsi Iklan Pekerjaan (Paragraph)\\nContoh: \"Dibutuhkan segera admin online, bisa kerja dari rumah, hanya modal HP! Gaji 30 juta per bulan! WA admin sekarang.\"',\n",
            "       'Sumber Iklan Pekerjaan ',\n",
            "       'Menurut Anda, Apakah pekerjaan ini mencurigakan atau scam?',\n",
            "       'Alasan mengapa pekerjaan ini Anda anggap asli atau scam?',\n",
            "       'Apakah ada permintaan uang di awal?',\n",
            "       'Apakah kontak perekrut mencurigakan? (Misalnya nomor WhatsApp tanpa identitas perusahaan resmi)'],\n",
            "      dtype='object')\n"
          ]
        }
      ]
    },
    {
      "cell_type": "code",
      "source": [
        "# Ganti nama kolom agar lebih bersih dan mudah digunakan\n",
        "df.columns = [\n",
        "    \"timestamp\", \"judul_iklan\", \"deskripsi_iklan\", \"sumber_iklan\",\n",
        "    \"mencurigakan\", \"alasan\", \"minta_uang\", \"kontak_mencurigakan\"\n",
        "]\n",
        "\n",
        "# Tampilkan hasil\n",
        "print(df.head())\n"
      ],
      "metadata": {
        "colab": {
          "base_uri": "https://localhost:8080/"
        },
        "id": "7GfmK0OnZdrA",
        "outputId": "31a32f53-4d6b-4143-9c31-1b3b1133b828"
      },
      "execution_count": null,
      "outputs": [
        {
          "output_type": "stream",
          "name": "stdout",
          "text": [
            "             timestamp                                        judul_iklan  \\\n",
            "0  01/03/2025 17:27:29     Quality Assurance Staff (QMS Audit Specialist)   \n",
            "1  01/03/2025 17:59:17                         Butuh karyawan secepatnya!   \n",
            "2  01/03/2025 18:00:04              Di cari karyawan untuk jaga toko kue    \n",
            "3  01/03/2025 18:01:04        CARI KARYAWAN BARU KERJA PABRIK AIR MINERAL   \n",
            "4  01/03/2025 18:01:42  Di cari karyawan buat  Jaga Tempat Laundry Ker...   \n",
            "\n",
            "                                     deskripsi_iklan sumber_iklan  \\\n",
            "0  As a Quality Management System (QMS) Specialis...       Google   \n",
            "1  Kalo serius bisa langsung dtg besok jam 6 pagi...     Facebook   \n",
            "2  Laki² / perempuan\\nKerja jam 08:00 pulang jam ...     Facebook   \n",
            "3  -Kerja 8 jam, dari jam 8 pagi – jam 4 sore\\n-G...     Facebook   \n",
            "4  Laki² / perempuan  Gaji 2 juta / Bulan,\\nUang ...     Facebook   \n",
            "\n",
            "             mencurigakan                                             alasan  \\\n",
            "0         Tidak, ini asli                    Alamat jelas, kualifikasi jelas   \n",
            "1  Ragu-ragu / Tidak tahu  ada video, tapi tidak tahu apakah benar atau t...   \n",
            "2  Ragu-ragu / Tidak tahu                                 info tidak lengkap   \n",
            "3            Ya, ini scam                  tidak perlu ijazah dan pengalaman   \n",
            "4  Ragu-ragu / Tidak tahu                                        tidak jelas   \n",
            "\n",
            "  minta_uang kontak_mencurigakan  \n",
            "0      Tidak               Tidak  \n",
            "1      Tidak                  Ya  \n",
            "2      Tidak                  Ya  \n",
            "3      Tidak                  Ya  \n",
            "4      Tidak                  Ya  \n"
          ]
        }
      ]
    },
    {
      "cell_type": "code",
      "source": [
        "# Hapus baris yang memiliki judul atau deskripsi kosong\n",
        "df = df.dropna(subset=[\"judul_iklan\", \"deskripsi_iklan\"])\n",
        "\n",
        "# Cek jumlah data setelah dibersihkan\n",
        "print(f\"Jumlah data setelah pembersihan: {len(df)}\")\n"
      ],
      "metadata": {
        "colab": {
          "base_uri": "https://localhost:8080/"
        },
        "id": "lXDLmWjEZojn",
        "outputId": "245f4f93-1b41-44f0-8945-e5fe3fa25d74"
      },
      "execution_count": null,
      "outputs": [
        {
          "output_type": "stream",
          "name": "stdout",
          "text": [
            "Jumlah data setelah pembersihan: 12\n"
          ]
        }
      ]
    },
    {
      "cell_type": "code",
      "source": [
        "# Hapus data duplikat berdasarkan judul dan deskripsi iklan\n",
        "df = df.drop_duplicates(subset=[\"judul_iklan\", \"deskripsi_iklan\"])\n",
        "\n",
        "# Cek jumlah data setelah hapus duplikat\n",
        "print(f\"Jumlah data setelah menghapus duplikat: {len(df)}\")\n"
      ],
      "metadata": {
        "colab": {
          "base_uri": "https://localhost:8080/"
        },
        "id": "2v83rfeyZsYg",
        "outputId": "5aa5eab6-ae34-41b0-9b96-723f229d3041"
      },
      "execution_count": null,
      "outputs": [
        {
          "output_type": "stream",
          "name": "stdout",
          "text": [
            "Jumlah data setelah menghapus duplikat: 12\n"
          ]
        }
      ]
    },
    {
      "cell_type": "code",
      "source": [
        "# Fungsi untuk membersihkan teks\n",
        "def bersihkan_teks(teks):\n",
        "    return \" \".join(teks.lower().split())\n",
        "\n",
        "# Terapkan ke kolom teks\n",
        "df[\"judul_iklan\"] = df[\"judul_iklan\"].apply(bersihkan_teks)\n",
        "df[\"deskripsi_iklan\"] = df[\"deskripsi_iklan\"].apply(bersihkan_teks)\n",
        "\n",
        "# Cek hasil pembersihan\n",
        "print(df.head())\n"
      ],
      "metadata": {
        "colab": {
          "base_uri": "https://localhost:8080/"
        },
        "id": "6dfUArHZZvLh",
        "outputId": "8b584d62-6bbb-4763-9099-bb09004e4bb5"
      },
      "execution_count": null,
      "outputs": [
        {
          "output_type": "stream",
          "name": "stdout",
          "text": [
            "             timestamp                                        judul_iklan  \\\n",
            "0  01/03/2025 17:27:29     quality assurance staff (qms audit specialist)   \n",
            "1  01/03/2025 17:59:17                         butuh karyawan secepatnya!   \n",
            "2  01/03/2025 18:00:04               di cari karyawan untuk jaga toko kue   \n",
            "3  01/03/2025 18:01:04        cari karyawan baru kerja pabrik air mineral   \n",
            "4  01/03/2025 18:01:42  di cari karyawan buat jaga tempat laundry kerj...   \n",
            "\n",
            "                                     deskripsi_iklan sumber_iklan  \\\n",
            "0  as a quality management system (qms) specialis...       Google   \n",
            "1  kalo serius bisa langsung dtg besok jam 6 pagi...     Facebook   \n",
            "2  laki² / perempuan kerja jam 08:00 pulang jam 1...     Facebook   \n",
            "3  -kerja 8 jam, dari jam 8 pagi – jam 4 sore -ga...     Facebook   \n",
            "4  laki² / perempuan gaji 2 juta / bulan, uang ma...     Facebook   \n",
            "\n",
            "             mencurigakan                                             alasan  \\\n",
            "0         Tidak, ini asli                    Alamat jelas, kualifikasi jelas   \n",
            "1  Ragu-ragu / Tidak tahu  ada video, tapi tidak tahu apakah benar atau t...   \n",
            "2  Ragu-ragu / Tidak tahu                                 info tidak lengkap   \n",
            "3            Ya, ini scam                  tidak perlu ijazah dan pengalaman   \n",
            "4  Ragu-ragu / Tidak tahu                                        tidak jelas   \n",
            "\n",
            "  minta_uang kontak_mencurigakan  \n",
            "0      Tidak               Tidak  \n",
            "1      Tidak                  Ya  \n",
            "2      Tidak                  Ya  \n",
            "3      Tidak                  Ya  \n",
            "4      Tidak                  Ya  \n"
          ]
        }
      ]
    },
    {
      "cell_type": "markdown",
      "source": [
        " **Langkah 6: Konversi Label Kategorikal ke Numerik**"
      ],
      "metadata": {
        "id": "mgWYgkM7Z-xL"
      }
    },
    {
      "cell_type": "code",
      "source": [
        "# Pastikan tidak ada NaN sebelum konversi label kategorikal\n",
        "df[\"mencurigakan\"] = df[\"mencurigakan\"].fillna(df[\"mencurigakan\"].mode()[0])  # Isi NaN dengan mode\n",
        "\n",
        "# Konversi label kategorikal menjadi numerik\n",
        "label_mapping = {\n",
        "    \"Tidak, ini asli\": 0,\n",
        "    \"Ragu-ragu / Tidak tahu\": 1,\n",
        "    \"Ya, ini scam\": 2\n",
        "}\n",
        "\n",
        "df[\"mencurigakan\"] = df[\"mencurigakan\"].map(label_mapping)\n",
        "\n",
        "# Cek apakah ada nilai yang tidak terkonversi\n",
        "print(\"Cek nilai unik setelah konversi:\", df[\"mencurigakan\"].unique())\n",
        "\n",
        "# Pastikan tidak ada NaN setelah konversi\n",
        "df[\"mencurigakan\"] = df[\"mencurigakan\"].fillna(0).astype(int)\n",
        "\n",
        "# Tampilkan hasil setelah konversi\n",
        "print(df[[\"mencurigakan\"]].head())\n"
      ],
      "metadata": {
        "colab": {
          "base_uri": "https://localhost:8080/"
        },
        "id": "6Wxme3mnumJ1",
        "outputId": "ed02140d-6597-4b43-d74c-37ca5cd249cf"
      },
      "execution_count": null,
      "outputs": [
        {
          "output_type": "stream",
          "name": "stdout",
          "text": [
            "Cek nilai unik setelah konversi: [0 1 2]\n",
            "   mencurigakan\n",
            "0             0\n",
            "1             1\n",
            "2             1\n",
            "3             2\n",
            "4             1\n"
          ]
        }
      ]
    },
    {
      "cell_type": "markdown",
      "source": [
        "**Langkah 7: Mengecek Distribusi Data**"
      ],
      "metadata": {
        "id": "ICpb7N9qaHf4"
      }
    },
    {
      "cell_type": "code",
      "source": [
        "import matplotlib.pyplot as plt\n",
        "\n",
        "# Cek distribusi label \"mencurigakan\"\n",
        "plt.figure(figsize=(6, 4))  # Atur ukuran plot\n",
        "df[\"mencurigakan\"].value_counts().sort_index().plot(kind=\"bar\", color=[\"green\", \"orange\", \"red\"])\n",
        "\n",
        "# Tambahkan judul dan label sumbu\n",
        "plt.title(\"Distribusi Label Mencurigakan\")\n",
        "plt.xlabel(\"Kategori (0: Asli, 1: Ragu, 2: Scam)\")\n",
        "plt.ylabel(\"Jumlah\")\n",
        "plt.xticks(rotation=0)  # Pastikan label sumbu X tidak miring\n",
        "plt.grid(axis=\"y\", linestyle=\"--\", alpha=0.7)  # Tambahkan grid untuk kemudahan membaca\n",
        "\n",
        "# Tampilkan plot\n",
        "plt.show()\n"
      ],
      "metadata": {
        "colab": {
          "base_uri": "https://localhost:8080/",
          "height": 410
        },
        "id": "Q8OBZW1gu3u4",
        "outputId": "1a66fa97-e8ed-4a7b-98a3-cdbcc44625f6"
      },
      "execution_count": null,
      "outputs": [
        {
          "output_type": "display_data",
          "data": {
            "text/plain": [
              "<Figure size 600x400 with 1 Axes>"
            ],
            "image/png": "[encoded data removed]"
          },
          "metadata": {}
        }
      ]
    },
    {
      "cell_type": "markdown",
      "source": [
        "**Langkah 8: Simpan Data yang Sudah Dibersihkan**"
      ],
      "metadata": {
        "id": "pRDWNbsWaSxb"
      }
    },
    {
      "cell_type": "code",
      "source": [
        "# Simpan dataset yang sudah dibersihkan ke file CSV\n",
        "df.to_csv(\"data_iklan_bersih.csv\", index=False)\n",
        "\n",
        "# Konfirmasi penyimpanan berhasil\n",
        "print(\"✅ Data berhasil disimpan sebagai 'data_iklan_bersih.csv'\")\n"
      ],
      "metadata": {
        "colab": {
          "base_uri": "https://localhost:8080/"
        },
        "id": "zU2q1VXrvULn",
        "outputId": "30fbc37a-8282-4211-b5a2-b1e81a344e88"
      },
      "execution_count": null,
      "outputs": [
        {
          "output_type": "stream",
          "name": "stdout",
          "text": [
            "✅ Data berhasil disimpan sebagai 'data_iklan_bersih.csv'\n"
          ]
        }
      ]
    },
    {
      "cell_type": "markdown",
      "source": [
        "**Langkah 9: Konversi Teks ke Representasi Numerik**\n"
      ],
      "metadata": {
        "id": "AFEz-zIdanxT"
      }
    },
    {
      "cell_type": "code",
      "source": [
        "from sklearn.feature_extraction.text import TfidfVectorizer\n",
        "\n",
        "# Inisialisasi TF-IDF Vectorizer\n",
        "vectorizer = TfidfVectorizer(max_features=5000, stop_words=\"english\")\n",
        "\n",
        "# Gabungkan kolom teks yang akan dikonversi\n",
        "df[\"teks_bersama\"] = df[\"judul_iklan\"] + \" \" + df[\"deskripsi_iklan\"]\n",
        "\n",
        "# Transformasi teks menjadi vektor numerik\n",
        "X = vectorizer.fit_transform(df[\"teks_bersama\"])\n",
        "\n",
        "# Konversi hasilnya menjadi DataFrame\n",
        "X_df = pd.DataFrame(X.toarray(), columns=vectorizer.get_feature_names_out())\n",
        "\n",
        "# Tambahkan label target (kategori mencurigakan)\n",
        "y = df[\"mencurigakan\"]\n",
        "\n",
        "# Cek hasil\n",
        "print(\"✅ Konversi teks ke numerik selesai!\")\n",
        "print(\"🔍 Dimensi Data TF-IDF:\", X_df.shape)\n"
      ],
      "metadata": {
        "colab": {
          "base_uri": "https://localhost:8080/"
        },
        "id": "iQvryrPOwFAj",
        "outputId": "739b0fcc-b849-49bb-c8ca-32785bc7d936"
      },
      "execution_count": null,
      "outputs": [
        {
          "output_type": "stream",
          "name": "stdout",
          "text": [
            "✅ Konversi teks ke numerik selesai!\n",
            "🔍 Dimensi Data TF-IDF: (12, 501)\n"
          ]
        }
      ]
    },
    {
      "cell_type": "markdown",
      "source": [
        "**Langkah 10: Split Data untuk Latihan dan Uji**"
      ],
      "metadata": {
        "id": "DOb8BMaSawa1"
      }
    },
    {
      "cell_type": "code",
      "source": [
        "from sklearn.model_selection import train_test_split\n",
        "\n",
        "# Bagi data menjadi training (80%) dan testing (20%)\n",
        "X_train, X_test, y_train, y_test = train_test_split(X_df, y, test_size=0.2, random_state=42, stratify=y)\n",
        "\n",
        "# Cek ukuran dataset setelah dibagi\n",
        "print(\"✅ Data berhasil dibagi!\")\n",
        "print(\"🔍 Ukuran X_train:\", X_train.shape)\n",
        "print(\"🔍 Ukuran X_test:\", X_test.shape)\n",
        "print(\"🔍 Ukuran y_train:\", y_train.shape)\n",
        "print(\"🔍 Ukuran y_test:\", y_test.shape)\n"
      ],
      "metadata": {
        "colab": {
          "base_uri": "https://localhost:8080/"
        },
        "id": "HGiGh2mLwSdv",
        "outputId": "8e69010a-8532-435f-b5e8-79a64c02ee65"
      },
      "execution_count": null,
      "outputs": [
        {
          "output_type": "stream",
          "name": "stdout",
          "text": [
            "✅ Data berhasil dibagi!\n",
            "🔍 Ukuran X_train: (9, 501)\n",
            "🔍 Ukuran X_test: (3, 501)\n",
            "🔍 Ukuran y_train: (9,)\n",
            "🔍 Ukuran y_test: (3,)\n"
          ]
        }
      ]
    },
    {
      "cell_type": "markdown",
      "source": [
        "**Langkah 11: Latih Model dengan Algoritma Sederhana (Naïve Bayes)**"
      ],
      "metadata": {
        "id": "x6Nbo-1ha3un"
      }
    },
    {
      "cell_type": "code",
      "source": [
        "from sklearn.naive_bayes import MultinomialNB\n",
        "from sklearn.metrics import classification_report, accuracy_score\n",
        "\n",
        "# Inisialisasi model Naïve Bayes\n",
        "model = MultinomialNB()\n",
        "\n",
        "# Latih model dengan data training\n",
        "model.fit(X_train, y_train)\n",
        "\n",
        "# Prediksi pada data uji\n",
        "y_pred = model.predict(X_test)\n",
        "\n",
        "# Evaluasi akurasi model\n",
        "print(\"✅ Model berhasil dilatih!\")\n",
        "print(\"🎯 Akurasi Model:\", accuracy_score(y_test, y_pred))\n",
        "print(\"\\n📊 Laporan Klasifikasi:\\n\", classification_report(y_test, y_pred))\n"
      ],
      "metadata": {
        "colab": {
          "base_uri": "https://localhost:8080/"
        },
        "id": "mbWH-rXLwh-P",
        "outputId": "505aea1d-f35b-4df8-a286-eafc2e7e8872"
      },
      "execution_count": null,
      "outputs": [
        {
          "output_type": "stream",
          "name": "stdout",
          "text": [
            "✅ Model berhasil dilatih!\n",
            "🎯 Akurasi Model: 0.6666666666666666\n",
            "\n",
            "📊 Laporan Klasifikasi:\n",
            "               precision    recall  f1-score   support\n",
            "\n",
            "           0       0.00      0.00      0.00         1\n",
            "           1       0.50      1.00      0.67         1\n",
            "           2       1.00      1.00      1.00         1\n",
            "\n",
            "    accuracy                           0.67         3\n",
            "   macro avg       0.50      0.67      0.56         3\n",
            "weighted avg       0.50      0.67      0.56         3\n",
            "\n"
          ]
        },
        {
          "output_type": "stream",
          "name": "stderr",
          "text": [
            "/usr/local/lib/python3.11/dist-packages/sklearn/metrics/_classification.py:1565: UndefinedMetricWarning: Precision is ill-defined and being set to 0.0 in labels with no predicted samples. Use `zero_division` parameter to control this behavior.\n",
            "  _warn_prf(average, modifier, f\"{metric.capitalize()} is\", len(result))\n",
            "/usr/local/lib/python3.11/dist-packages/sklearn/metrics/_classification.py:1565: UndefinedMetricWarning: Precision is ill-defined and being set to 0.0 in labels with no predicted samples. Use `zero_division` parameter to control this behavior.\n",
            "  _warn_prf(average, modifier, f\"{metric.capitalize()} is\", len(result))\n",
            "/usr/local/lib/python3.11/dist-packages/sklearn/metrics/_classification.py:1565: UndefinedMetricWarning: Precision is ill-defined and being set to 0.0 in labels with no predicted samples. Use `zero_division` parameter to control this behavior.\n",
            "  _warn_prf(average, modifier, f\"{metric.capitalize()} is\", len(result))\n"
          ]
        }
      ]
    },
    {
      "cell_type": "markdown",
      "source": [
        "Jumlah ideal dataset tergantung pada kompleksitas masalah dan variasi dalam data. Namun, untuk model klasifikasi seperti deteksi iklan scam, berikut panduannya:\n",
        "\n",
        "🔢 Estimasi Jumlah Data yang Dibutuhkan\n",
        "1️⃣ Minimal: 500-1000 sampel (250-500 iklan asli, 250-500 iklan scam)\n",
        "\n",
        "Untuk model dasar yang bisa membedakan pola umum.\n",
        "2️⃣ Bagus: 5000-10,000 sampel (tersebar merata antara iklan asli, scam, dan kategori abu-abu)\n",
        "\n",
        "Akan meningkatkan akurasi model dan menghindari bias ke satu kelas.\n",
        "3️⃣ Ideal: >50,000 sampel\n",
        "\n",
        "Jika ingin model yang sangat robust dan bisa menangani variasi bahasa serta format iklan yang lebih luas."
      ],
      "metadata": {
        "id": "NEzfYbZhoEkb"
      }
    }
  ]
}